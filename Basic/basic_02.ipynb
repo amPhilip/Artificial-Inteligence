{
 "cells": [
  {
   "cell_type": "code",
   "execution_count": 1,
   "id": "48b96799",
   "metadata": {},
   "outputs": [
    {
     "name": "stdout",
     "output_type": "stream",
     "text": [
      "Student Name: Marcus\n",
      "First Test Score: 56\n",
      "Second Test Score: 98\n",
      "\n",
      "\n",
      "Student Name: Mary Doe\n",
      "First Test Score: 345953\n",
      "Second Test Score: 5637\n",
      "\n",
      "\n",
      "Student Name: John Presley\n",
      "First Test Score: 762904\n",
      "Second Test Score: 6733\n",
      "\n",
      "\n",
      "Student Name: Lilian\n",
      "First Test Score: 5367\n",
      "Second Test Score: 3567\n",
      "\n",
      "\n",
      "Student Name: joseph\n",
      "First Test Score: 57293\n",
      "Second Test Score: 3536\n",
      "\n",
      "\n",
      "dictionary:  {'Marcus': ['56', '98'], 'Mary Doe': ['345953', '5637'], 'John Presley': ['762904', '6733'], 'Lilian': ['5367', '3567'], 'joseph': ['57293', '3536']}  \n",
      "\n",
      "Marcus  Above average grade. \n",
      "\n",
      "Mary Doe  Above average grade. \n",
      "\n",
      "John Presley  Above average grade. \n",
      "\n",
      "Lilian  Above average grade. \n",
      "\n",
      "joseph  Above average grade. \n",
      "\n",
      "Student With the Highest average is  John Presley .\n"
     ]
    }
   ],
   "source": [
    "def function_scores():\n",
    "    dict_one = {}\n",
    "    scores_array = []\n",
    "    highest_average_value = 0\n",
    "    highest_average_key = \"\"\n",
    "    \n",
    "    \n",
    "    for x in range(5):\n",
    "        scores_array = []\n",
    "        \n",
    "        student_name  = input(\"Student Name: \")\n",
    "        first_score  = input(\"First Test Score: \")\n",
    "        second_score  = input(\"Second Test Score: \")\n",
    "        \n",
    "        scores_array.append(first_score)\n",
    "        scores_array.append(second_score)\n",
    "        \n",
    "\n",
    "        dict_one.update({student_name: scores_array})\n",
    "        print(\"\\n\")\n",
    "    \n",
    "    print(\"dictionary: \", dict_one,\" \\n\")\n",
    "    \n",
    "    \n",
    "    for key, values in dict_one.items(): \n",
    "        sum = int(values[0]) + int(values[1])\n",
    "        average = sum /2\n",
    "        \n",
    "        \n",
    "        if average > 50:\n",
    "            print(key, \" Above average grade. \\n\")\n",
    "            \n",
    "        if average > highest_average_value:\n",
    "            highest_average_value = average\n",
    "            highest_average_key = key\n",
    "            \n",
    "    print(\"Student With the Highest average is \", highest_average_key, \".\")\n",
    "\n",
    "\n",
    "    \n",
    "function_scores()\n"
   ]
  },
  {
   "cell_type": "code",
   "execution_count": 2,
   "id": "839241ee",
   "metadata": {},
   "outputs": [
    {
     "name": "stdout",
     "output_type": "stream",
     "text": [
      "Enter size of list 7\n",
      "Enter element of list 56\n",
      "Enter element of list 67\n",
      "Enter element of list 43\n",
      "Enter element of list 78\n",
      "Enter element of list 98\n",
      "Enter element of list 23\n",
      "Enter element of list 65\n",
      "Original list:  [56, 67, 43, 78, 98, 23, 65]\n",
      "Enter element to be checked list: 43\n",
      "43  has occurred  1 times\n"
     ]
    }
   ],
   "source": [
    "\n",
    "def count_occurrence(list, n):\n",
    "    \n",
    "\n",
    "    count=0\n",
    "    for i in list:\n",
    "        if(i==n):\n",
    "          #update counter variable\n",
    "            count=count+1\n",
    "    return count\n",
    "\n",
    "\n",
    "li=[]\n",
    "n=int(input(\"Enter size of list \"))\n",
    "for i in range(0,n):\n",
    "    e=int(input(\"Enter element of list \"))\n",
    "    li.append(e)\n",
    "print(\"Original list: \",li)\n",
    "\n",
    "x=int(input(\"Enter element to be checked list: \"))\n",
    "\n",
    "\n",
    "print(x,\" has occurred \",count_occurrence(li, x),\"times\")"
   ]
  },
  {
   "cell_type": "code",
   "execution_count": null,
   "id": "5442f899",
   "metadata": {},
   "outputs": [],
   "source": []
  }
 ],
 "metadata": {
  "kernelspec": {
   "display_name": "Python 3 (ipykernel)",
   "language": "python",
   "name": "python3"
  },
  "language_info": {
   "codemirror_mode": {
    "name": "ipython",
    "version": 3
   },
   "file_extension": ".py",
   "mimetype": "text/x-python",
   "name": "python",
   "nbconvert_exporter": "python",
   "pygments_lexer": "ipython3",
   "version": "3.9.2"
  }
 },
 "nbformat": 4,
 "nbformat_minor": 5
}
