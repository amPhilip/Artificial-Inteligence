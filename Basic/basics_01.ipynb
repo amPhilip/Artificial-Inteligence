{
 "cells": [
  {
   "cell_type": "code",
   "execution_count": 1,
   "id": "2cee22ed",
   "metadata": {},
   "outputs": [
    {
     "name": "stdout",
     "output_type": "stream",
     "text": [
      "Enter your first value: 6\n",
      "Enter your second value: 9\n",
      "The largest number is:  9\n",
      "Would you like to compare another set: \n",
      "1. Yes \n",
      "2. No.2\n"
     ]
    }
   ],
   "source": [
    "def function_large():\n",
    "    end = False\n",
    "\n",
    "\n",
    "    while end == False:\n",
    "        value_one = input(\"Enter your first value: \")\n",
    "\n",
    "        value_two = input(\"Enter your second value: \")\n",
    "\n",
    "        if value_one > value_two:\n",
    "            print(\"The largest number is: \", value_one)\n",
    "\n",
    "        else: \n",
    "            print(\"The largest number is: \", value_two)\n",
    "\n",
    "        value_three = input(\"Would you like to compare another set: \\n1. Yes \\n2. No.\")\n",
    "\n",
    "        if int(value_three) == 2:\n",
    "            end = True\n",
    "\n",
    "function_large()"
   ]
  },
  {
   "cell_type": "code",
   "execution_count": null,
   "id": "c9756b46",
   "metadata": {},
   "outputs": [
    {
     "name": "stdout",
     "output_type": "stream",
     "text": [
      "Enter a value: 8\n",
      "Enter a value: 7\n",
      "Enter a value: 5\n",
      "Enter a value: 6\n",
      "Enter a value: 9\n",
      "array ['8', '7', '5', '6', '9']\n",
      "View the average of?: \n",
      "1. Odd Numbers \n",
      "2. Even Numbers \n",
      "1\n",
      "Odd number average:  7.0\n",
      "Display another set of numbers?: \n",
      "1. Yes \n",
      "2. No.1\n",
      "Enter a value: 3\n",
      "Enter a value: 14\n",
      "Enter a value: 58\n",
      "Enter a value: 96\n",
      "Enter a value: 25\n",
      "array ['3', '14', '58', '96', '25']\n",
      "View the average of?: \n",
      "1. Odd Numbers \n",
      "2. Even Numbers \n",
      "2\n",
      "Even number average:  56.0\n"
     ]
    }
   ],
   "source": [
    "def main():\n",
    "    \n",
    "    end_two = False\n",
    "    \n",
    "    \n",
    "    while end_two == False:\n",
    "        array = []\n",
    "\n",
    "        for x in range(5):\n",
    "\n",
    "            val_three  = input(\"Enter a value: \")\n",
    "            array.append(val_three)\n",
    "\n",
    "\n",
    "        print(\"array\", array)\n",
    "        val_four = input(\"View the average of?: \\n1. Odd Numbers \\n2. Even Numbers \\n\")\n",
    "\n",
    "        if int(val_four) == 1:\n",
    "            print(\"Odd number average: \", oddNumAvg(array))\n",
    "\n",
    "        else:\n",
    "            print(\"Even number average: \", evenNumAvg(array))\n",
    "\n",
    "        val_five = input(\"Display another set of numbers?: \\n1. Yes \\n2. No.\")\n",
    "\n",
    "        if int(val_five) == 2:\n",
    "            end_two = True\n",
    "    \n",
    "\n",
    "def oddNumAvg(array):\n",
    "    result = 0\n",
    "    count = 0\n",
    "    \n",
    "    for a in array:\n",
    "        if int(a) % 2 != 0:\n",
    "            result = result + int(a)\n",
    "            count = count + 1\n",
    "        \n",
    "        \n",
    "    res_two = float(result)/float(count) \n",
    "    return res_two\n",
    "\n",
    "def evenNumAvg(array):\n",
    "    result = 0\n",
    "    count = 0\n",
    "    \n",
    "    for a in array:\n",
    "        if int(a) % 2 == 0:\n",
    "            result = result + int(a)\n",
    "            count = count + 1\n",
    "        \n",
    "        \n",
    "    result_two = float(result)/float(count)\n",
    "    return result_two\n",
    "\n",
    "\n",
    "main()\n"
   ]
  },
  {
   "cell_type": "code",
   "execution_count": null,
   "id": "d9c679da",
   "metadata": {},
   "outputs": [],
   "source": []
  },
  {
   "cell_type": "code",
   "execution_count": null,
   "id": "2015d2e7",
   "metadata": {},
   "outputs": [],
   "source": []
  },
  {
   "cell_type": "code",
   "execution_count": null,
   "id": "5265ff6c",
   "metadata": {},
   "outputs": [],
   "source": []
  },
  {
   "cell_type": "code",
   "execution_count": null,
   "id": "fc8c793e",
   "metadata": {},
   "outputs": [],
   "source": []
  },
  {
   "cell_type": "code",
   "execution_count": null,
   "id": "e6e45ba5",
   "metadata": {},
   "outputs": [],
   "source": [
    "def count_occurrences(lst, item):\n",
    "    count = 0\n",
    "    for i in lst:\n",
    "        if i == item:\n",
    "            count += 1\n",
    "    return count\n",
    "\n",
    "lst = input(\"Enter a list of items separated by spaces: \").split()\n",
    "item = input(\"Enter the item to search for: \")\n",
    "count = count_occurrences(lst, item)\n",
    "print(f\"{item} occurs {count} time(s) in the list.\")"
   ]
  },
  {
   "cell_type": "code",
   "execution_count": null,
   "id": "2992a4fa",
   "metadata": {},
   "outputs": [],
   "source": []
  },
  {
   "cell_type": "code",
   "execution_count": null,
   "id": "80fbb9c2",
   "metadata": {},
   "outputs": [],
   "source": []
  },
  {
   "cell_type": "code",
   "execution_count": null,
   "id": "cd79a341",
   "metadata": {},
   "outputs": [],
   "source": []
  },
  {
   "cell_type": "code",
   "execution_count": null,
   "id": "6f7182d1",
   "metadata": {},
   "outputs": [],
   "source": []
  },
  {
   "cell_type": "code",
   "execution_count": null,
   "id": "70ee18b2",
   "metadata": {},
   "outputs": [],
   "source": []
  },
  {
   "cell_type": "code",
   "execution_count": null,
   "id": "45fc61a8",
   "metadata": {},
   "outputs": [],
   "source": []
  },
  {
   "cell_type": "code",
   "execution_count": null,
   "id": "58ecd95a",
   "metadata": {},
   "outputs": [],
   "source": []
  },
  {
   "cell_type": "code",
   "execution_count": null,
   "id": "27659143",
   "metadata": {},
   "outputs": [],
   "source": []
  },
  {
   "cell_type": "code",
   "execution_count": null,
   "id": "82a83a04",
   "metadata": {},
   "outputs": [],
   "source": []
  },
  {
   "cell_type": "code",
   "execution_count": null,
   "id": "3c19ea06",
   "metadata": {},
   "outputs": [],
   "source": []
  },
  {
   "cell_type": "code",
   "execution_count": null,
   "id": "c5202598",
   "metadata": {},
   "outputs": [],
   "source": []
  },
  {
   "cell_type": "code",
   "execution_count": null,
   "id": "d5c855e0",
   "metadata": {},
   "outputs": [],
   "source": []
  },
  {
   "cell_type": "code",
   "execution_count": null,
   "id": "67e34661",
   "metadata": {},
   "outputs": [],
   "source": []
  },
  {
   "cell_type": "code",
   "execution_count": null,
   "id": "9e06c0a8",
   "metadata": {},
   "outputs": [],
   "source": []
  },
  {
   "cell_type": "code",
   "execution_count": null,
   "id": "d424b13c",
   "metadata": {},
   "outputs": [],
   "source": []
  },
  {
   "cell_type": "code",
   "execution_count": null,
   "id": "44bae122",
   "metadata": {},
   "outputs": [],
   "source": []
  },
  {
   "cell_type": "code",
   "execution_count": null,
   "id": "8436601a",
   "metadata": {},
   "outputs": [],
   "source": []
  },
  {
   "cell_type": "code",
   "execution_count": null,
   "id": "d3e16ed8",
   "metadata": {},
   "outputs": [],
   "source": []
  },
  {
   "cell_type": "code",
   "execution_count": null,
   "id": "0a6aec02",
   "metadata": {},
   "outputs": [],
   "source": []
  },
  {
   "cell_type": "code",
   "execution_count": null,
   "id": "e3483b25",
   "metadata": {},
   "outputs": [],
   "source": []
  },
  {
   "cell_type": "code",
   "execution_count": null,
   "id": "70361fd0",
   "metadata": {},
   "outputs": [],
   "source": []
  },
  {
   "cell_type": "code",
   "execution_count": null,
   "id": "d521823b",
   "metadata": {},
   "outputs": [],
   "source": []
  },
  {
   "cell_type": "code",
   "execution_count": null,
   "id": "9b1ff655",
   "metadata": {},
   "outputs": [],
   "source": []
  },
  {
   "cell_type": "code",
   "execution_count": null,
   "id": "12ca0e1f",
   "metadata": {},
   "outputs": [],
   "source": []
  },
  {
   "cell_type": "code",
   "execution_count": null,
   "id": "e6022c5e",
   "metadata": {},
   "outputs": [],
   "source": []
  },
  {
   "cell_type": "code",
   "execution_count": null,
   "id": "94068815",
   "metadata": {},
   "outputs": [],
   "source": []
  },
  {
   "cell_type": "code",
   "execution_count": null,
   "id": "209f33c3",
   "metadata": {},
   "outputs": [],
   "source": []
  },
  {
   "cell_type": "code",
   "execution_count": null,
   "id": "c1d984a7",
   "metadata": {},
   "outputs": [],
   "source": []
  },
  {
   "cell_type": "code",
   "execution_count": null,
   "id": "f00736f5",
   "metadata": {},
   "outputs": [],
   "source": []
  },
  {
   "cell_type": "code",
   "execution_count": null,
   "id": "8ceab8ae",
   "metadata": {},
   "outputs": [],
   "source": []
  },
  {
   "cell_type": "code",
   "execution_count": null,
   "id": "59e6c712",
   "metadata": {},
   "outputs": [],
   "source": []
  },
  {
   "cell_type": "code",
   "execution_count": null,
   "id": "5834eee5",
   "metadata": {},
   "outputs": [],
   "source": []
  },
  {
   "cell_type": "code",
   "execution_count": null,
   "id": "b0aa0143",
   "metadata": {},
   "outputs": [],
   "source": []
  },
  {
   "cell_type": "code",
   "execution_count": null,
   "id": "6c18205e",
   "metadata": {},
   "outputs": [],
   "source": []
  },
  {
   "cell_type": "code",
   "execution_count": null,
   "id": "37896b4d",
   "metadata": {},
   "outputs": [],
   "source": []
  },
  {
   "cell_type": "code",
   "execution_count": null,
   "id": "37d7b494",
   "metadata": {},
   "outputs": [],
   "source": []
  },
  {
   "cell_type": "code",
   "execution_count": null,
   "id": "d663c3b9",
   "metadata": {},
   "outputs": [],
   "source": []
  },
  {
   "cell_type": "code",
   "execution_count": null,
   "id": "79af4969",
   "metadata": {},
   "outputs": [],
   "source": []
  },
  {
   "cell_type": "code",
   "execution_count": null,
   "id": "9e89aa5d",
   "metadata": {},
   "outputs": [],
   "source": []
  },
  {
   "cell_type": "code",
   "execution_count": null,
   "id": "543b75a1",
   "metadata": {},
   "outputs": [],
   "source": []
  },
  {
   "cell_type": "code",
   "execution_count": null,
   "id": "480756ee",
   "metadata": {},
   "outputs": [],
   "source": []
  },
  {
   "cell_type": "code",
   "execution_count": null,
   "id": "b26a3933",
   "metadata": {},
   "outputs": [],
   "source": []
  },
  {
   "cell_type": "code",
   "execution_count": null,
   "id": "7a27741a",
   "metadata": {},
   "outputs": [],
   "source": []
  },
  {
   "cell_type": "code",
   "execution_count": null,
   "id": "aa8357f6",
   "metadata": {},
   "outputs": [],
   "source": []
  },
  {
   "cell_type": "code",
   "execution_count": null,
   "id": "ac9eec04",
   "metadata": {},
   "outputs": [],
   "source": []
  },
  {
   "cell_type": "code",
   "execution_count": null,
   "id": "979de1f5",
   "metadata": {},
   "outputs": [],
   "source": []
  }
 ],
 "metadata": {
  "kernelspec": {
   "display_name": "Python 3 (ipykernel)",
   "language": "python",
   "name": "python3"
  },
  "language_info": {
   "codemirror_mode": {
    "name": "ipython",
    "version": 3
   },
   "file_extension": ".py",
   "mimetype": "text/x-python",
   "name": "python",
   "nbconvert_exporter": "python",
   "pygments_lexer": "ipython3",
   "version": "3.9.2"
  }
 },
 "nbformat": 4,
 "nbformat_minor": 5
}
